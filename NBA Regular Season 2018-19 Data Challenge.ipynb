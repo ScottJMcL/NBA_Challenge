{
 "cells": [
  {
   "cell_type": "markdown",
   "metadata": {},
   "source": [
    "# Nba Regular Season 2018-19 Data Challenge\n",
    "\n",
    "Your task will be to take the dataset given, and create an analysis answering the following 10 questions. This project will again test your knowledge of pandas in order to find the answers needed given the data you are presented with."
   ]
  },
  {
   "cell_type": "code",
   "execution_count": 1,
   "metadata": {},
   "outputs": [
    {
     "data": {
      "text/plain": [
       "Index(['Name', 'Height', 'Weight', 'Team', 'Age', 'Salary', 'Points', 'Blocks',\n",
       "       'Steals', 'Assists', 'Rebounds', 'FT%', 'FTA', 'FG3%', 'FG3A', 'FG%',\n",
       "       'FGA', 'MP', 'G', 'PER', 'OWS', 'DWS', 'WS', 'WS48', 'USG', 'BPM',\n",
       "       'VORP'],\n",
       "      dtype='object')"
      ]
     },
     "execution_count": 1,
     "metadata": {},
     "output_type": "execute_result"
    }
   ],
   "source": [
    "import pandas as pd\n",
    "import numpy as np\n",
    "import matplotlib.pyplot as plt \n",
    "import csv\n",
    "from  itertools import groupby\n",
    "\n",
    "datafile = 'nbastats2018-2019.csv'\n",
    "\n",
    "league = pd.read_csv('nbastats2018-2019.csv', sep = ',')\n",
    "\n",
    "stat_defs = {\n",
    "    'Points': 'Points per Game', \n",
    "    'Blocks': 'Blocks per Game',\n",
    "    'Steals': 'Steals per Game',\n",
    "    'Assists': 'Assists per Game', \n",
    "    'Rebounds': 'Rebounds per Game',\n",
    "    'FT%': 'Free Throw %', \n",
    "    'FTA': 'Free Throw Attempts', \n",
    "    'FG3%': '3 Point FG %',\n",
    "    'FG3A': '3 Point FG Attempts', \n",
    "    'FG%': 'Field Goal %',\n",
    "    'FGA': 'Field Goals Attempted', \n",
    "    'MP': 'Minutes Played', \n",
    "    'G': 'Games', \n",
    "    'PER': 'Player Efficiency Rating', \n",
    "    'OWS': 'Offensive Win Shares', \n",
    "    'DWS': 'Defensive Win Shares', \n",
    "    'WS': 'Win Shares', \n",
    "    'WS48': 'WS/48 is win shares per 48 minutes', \n",
    "    'USG': \"Usage Rate\", \n",
    "    'BPM': 'Box plus-minus',\n",
    "    'VORP': 'Value Over Replacement Player'\n",
    "    }\n",
    "\n",
    "league.keys()\n",
    "# league.head(5)"
   ]
  },
  {
   "cell_type": "markdown",
   "metadata": {},
   "source": [
    "# What was the average age of player in the league?"
   ]
  },
  {
   "cell_type": "code",
   "execution_count": 39,
   "metadata": {},
   "outputs": [
    {
     "name": "stdout",
     "output_type": "stream",
     "text": [
      "              Age\n",
      "count  521.000000\n",
      "mean    25.900192\n",
      "std      4.208236\n",
      "min     19.000000\n",
      "25%     23.000000\n",
      "50%     25.000000\n",
      "75%     29.000000\n",
      "max     42.000000\n",
      "\n",
      "mean age = 25.9 years old\n"
     ]
    }
   ],
   "source": [
    "\n",
    "# league.head(5)\n",
    "print(league.describe()[['Age']])\n",
    "print('\\nmean age = 25.9 years old')\n",
    "\n",
    "\n"
   ]
  },
  {
   "cell_type": "markdown",
   "metadata": {},
   "source": [
    "# What player scored the most points?"
   ]
  },
  {
   "cell_type": "code",
   "execution_count": 2,
   "metadata": {},
   "outputs": [
    {
     "name": "stdout",
     "output_type": "stream",
     "text": [
      "                  Name\n",
      "TotPts                \n",
      "2815.8    James Harden\n",
      "2156.0     Paul George\n",
      "2099.2    Kemba Walker\n",
      "2064.0  Damian Lillard\n",
      "2028.0    Kevin Durant\n",
      "\n",
      "James Harden, ~2,816 points (2,818 per Google)\n",
      "\n"
     ]
    },
    {
     "name": "stderr",
     "output_type": "stream",
     "text": [
      "/var/folders/5h/2fq29yzd4lj0gf0pwmhm54680000gn/T/ipykernel_5918/3599268351.py:3: FutureWarning: Dropping invalid columns in DataFrameGroupBy.max is deprecated. In a future version, a TypeError will be raised. Before calling .max, select only columns which should be valid for the function.\n",
      "  print(league.groupby(['TotPts']).max().sort_values('TotPts', ascending = False).head(5)[['Name']])\n"
     ]
    }
   ],
   "source": [
    "# Total Points = PPG * G\n",
    "league['TotPts'] = league[\"Points\"] * league[\"G\"]\n",
    "print(league.groupby(['TotPts']).max().sort_values('TotPts', ascending = False).head(5)[['Name']])\n",
    "print('\\nJames Harden, ~2,816 points (2,818 per Google)\\n')"
   ]
  },
  {
   "cell_type": "markdown",
   "metadata": {},
   "source": [
    "# What player had the most blocks during the season? Was it a post player (F/C)?"
   ]
  },
  {
   "cell_type": "code",
   "execution_count": 3,
   "metadata": {
    "scrolled": true
   },
   "outputs": [
    {
     "name": "stdout",
     "output_type": "stream",
     "text": [
      "                      Name\n",
      "BlksInS                   \n",
      "199.8         Myles Turner\n",
      "186.3          Rudy Gobert\n",
      "178.2          Brook Lopez\n",
      "158.4    Mitchell Robinson\n",
      "150.0         JaVale McGee\n",
      "\n",
      "Myles Turner, 200 Blocks (199 per Google), Center player per https://en.wikipedia.org/wiki/Myles_Turner\n"
     ]
    },
    {
     "name": "stderr",
     "output_type": "stream",
     "text": [
      "/var/folders/5h/2fq29yzd4lj0gf0pwmhm54680000gn/T/ipykernel_5918/1703502119.py:3: FutureWarning: Dropping invalid columns in DataFrameGroupBy.max is deprecated. In a future version, a TypeError will be raised. Before calling .max, select only columns which should be valid for the function.\n",
      "  print(league.groupby(['BlksInS']).max().sort_values('BlksInS', ascending = False).head(5)[['Name']])\n"
     ]
    }
   ],
   "source": [
    "# Blocks in season = Blocks * G\n",
    "league['BlksInS'] = league[\"Blocks\"] * league[\"G\"]\n",
    "print(league.groupby(['BlksInS']).max().sort_values('BlksInS', ascending = False).head(5)[['Name']])\n",
    "\n",
    "print('\\nMyles Turner, 200 Blocks (199 per Google), Center player per https://en.wikipedia.org/wiki/Myles_Turner')"
   ]
  },
  {
   "cell_type": "markdown",
   "metadata": {},
   "source": [
    "# Based on the regular season, who had the best chance to win a title given their win percentage?"
   ]
  },
  {
   "cell_type": "code",
   "execution_count": 32,
   "metadata": {},
   "outputs": [
    {
     "name": "stdout",
     "output_type": "stream",
     "text": [
      "                         WS\n",
      "Team                       \n",
      "Milwaukee Bucks        63.0\n",
      "Golden State Warriors  55.9\n",
      "Utah Jazz              53.6\n",
      "Toronto Raptors        52.9\n",
      "Philadelphia 76ers     52.8\n",
      "\n",
      "Milwaukee Bucks, with win % = WS / 82 = 77%\n"
     ]
    }
   ],
   "source": [
    "# league.columns\n",
    "# Per Wikipedia, 82 regular season games in 2018\n",
    "# Team WP = sum(WS) / 82\n",
    "\n",
    "# Per https://www.basketball-reference.com:\n",
    "# The sum of player win shares on a given team will be roughly equal to that team’s win total for the season\"\n",
    "\n",
    "print(league.groupby('Team').sum().sort_values('WS', ascending = False)[['WS']].head(5) ) # Total team wins for the regular season\n",
    "\n",
    "print('\\nMilwaukee Bucks, with win % = WS / 82 = 77%')\n"
   ]
  },
  {
   "cell_type": "markdown",
   "metadata": {},
   "source": [
    "# What player had the best 3-pt percentage? "
   ]
  },
  {
   "cell_type": "code",
   "execution_count": 4,
   "metadata": {},
   "outputs": [
    {
     "name": "stdout",
     "output_type": "stream",
     "text": [
      "                     Name\n",
      "FG3A FG3%                \n",
      "13.2 0.368   James Harden\n",
      "11.7 0.437  Stephen Curry\n",
      "10.0 0.400    R.J. Hunter\n",
      "9.8  0.386    Paul George\n",
      "8.9  0.356   Kemba Walker\n",
      "\n",
      "Stephen Curry was the best 3-point shooter, based on number of attempts and % made.\n",
      "\n"
     ]
    },
    {
     "name": "stderr",
     "output_type": "stream",
     "text": [
      "/var/folders/5h/2fq29yzd4lj0gf0pwmhm54680000gn/T/ipykernel_5918/2747467417.py:7: FutureWarning: Dropping invalid columns in DataFrameGroupBy.max is deprecated. In a future version, a TypeError will be raised. Before calling .max, select only columns which should be valid for the function.\n",
      "  print(league.groupby(['FG3A', 'FG3%']).max().sort_values('FG3A', ascending = False).head(5)[['Name']])\n"
     ]
    }
   ],
   "source": [
    "# FG3% * FG3A\n",
    "# league['FG3M'] = league['FG3%'] * league['FG3A']\n",
    "# print(league.groupby(['FG3M']).max().sort_values('FG3M', ascending = False).head(5)[['Name', 'FG3%', 'FG3A']])\n",
    "# print(league.groupby(['FG3%']).max().sort_values('FG3%', ascending = False).head(5)[['Name']])\n",
    "# print('\\nTrevon Duval, 100% (0.3 3-point attempts per game)\\n')\n",
    "\n",
    "print(league.groupby(['FG3A', 'FG3%']).max().sort_values('FG3A', ascending = False).head(5)[['Name']])\n",
    "print(f'\\nStephen Curry was the best 3-point shooter, based on number of attempts and % made.\\n')\n"
   ]
  },
  {
   "cell_type": "code",
   "execution_count": null,
   "metadata": {},
   "outputs": [],
   "source": []
  },
  {
   "cell_type": "markdown",
   "metadata": {},
   "source": [
    "# Who played the most minutes during the season"
   ]
  },
  {
   "cell_type": "code",
   "execution_count": 5,
   "metadata": {},
   "outputs": [
    {
     "name": "stdout",
     "output_type": "stream",
     "text": [
      "                    Name   G    MP\n",
      "MinPerSea                         \n",
      "3025.8      Bradley Beal  82  36.9\n",
      "2870.4      James Harden  78  36.8\n",
      "2861.8      Kemba Walker  82  34.9\n",
      "2845.4     Tobias Harris  82  34.7\n",
      "2841.3       Paul George  77  36.9\n",
      "\n",
      "Bradley Beal, 3025.8 minutes\n",
      "\n"
     ]
    },
    {
     "name": "stderr",
     "output_type": "stream",
     "text": [
      "/var/folders/5h/2fq29yzd4lj0gf0pwmhm54680000gn/T/ipykernel_5918/1285243109.py:3: FutureWarning: Dropping invalid columns in DataFrameGroupBy.max is deprecated. In a future version, a TypeError will be raised. Before calling .max, select only columns which should be valid for the function.\n",
      "  print(league.groupby(['MinPerSea']).max().sort_values('MinPerSea', ascending = False).head(5)[['Name', \"G\", \"MP\"]])\n"
     ]
    }
   ],
   "source": [
    "# MP * G\n",
    "league['MinPerSea'] = league['MP'] * league['G'] # Minutes Per Season\n",
    "print(league.groupby(['MinPerSea']).max().sort_values('MinPerSea', ascending = False).head(5)[['Name', \"G\", \"MP\"]])\n",
    "print('\\nBradley Beal, 3025.8 minutes\\n')"
   ]
  },
  {
   "cell_type": "markdown",
   "metadata": {},
   "source": [
    "# What player, given their player effiecency rating, was the clutchest during the season?"
   ]
  },
  {
   "cell_type": "code",
   "execution_count": 6,
   "metadata": {},
   "outputs": [
    {
     "name": "stdout",
     "output_type": "stream",
     "text": [
      "                          Name\n",
      "MP*PER                        \n",
      "11.2608           James Harden\n",
      "10.1352  Giannis Antetokounmpo\n",
      "9.9990           Anthony Davis\n",
      "9.0112            LeBron James\n",
      "8.7957             Joel Embiid\n",
      "\n",
      "James Harden played the best in 2018-2019 season.\n",
      "\n",
      "Per NBA.com, Harden made 192 points in the clutch, the highest of the season for all players.\n",
      "\n"
     ]
    },
    {
     "name": "stderr",
     "output_type": "stream",
     "text": [
      "/var/folders/5h/2fq29yzd4lj0gf0pwmhm54680000gn/T/ipykernel_5918/3712753258.py:3: FutureWarning: Dropping invalid columns in DataFrameGroupBy.max is deprecated. In a future version, a TypeError will be raised. Before calling .max, select only columns which should be valid for the function.\n",
      "  print(league.groupby(['MP*PER']).max().sort_values('MP*PER', ascending = False)[['Name']].head(5))\n"
     ]
    }
   ],
   "source": [
    "# MP * PER = Best player\n",
    "league['MP*PER'] = league['MP'] * league['PER'] * 0.01\n",
    "print(league.groupby(['MP*PER']).max().sort_values('MP*PER', ascending = False)[['Name']].head(5))\n",
    "print(f'\\nJames Harden played the best in 2018-2019 season.\\n')\n",
    "print(f'Per NBA.com, Harden made 192 points in the clutch, the highest of the season for all players.\\n')\n"
   ]
  },
  {
   "cell_type": "markdown",
   "metadata": {},
   "source": [
    "# What team had the youngest roster?"
   ]
  },
  {
   "cell_type": "code",
   "execution_count": 142,
   "metadata": {},
   "outputs": [
    {
     "name": "stdout",
     "output_type": "stream",
     "text": [
      "\n",
      "                 Age\n",
      "Team               \n",
      "Chicago Bulls  24.3\n",
      "\n",
      "Chicago Bulls has the youngest roster, averaging 24.3 years old.\n",
      "\n"
     ]
    }
   ],
   "source": [
    "# Youngest Roster = sum of \"Ages\" / num of players\n",
    "\n",
    "# print(league.groupby(['Team']).sum().sort_values(\"Age\", ascending = True)[[\"Age\"]].head(1))\n",
    "# print(f\"{league.groupby(['Team']).count()[['Name']].loc[\"Oklahoma City Thunder\"]}\")\n",
    "\n",
    "youngest = league.groupby(['Team']).mean().sort_values('Age', kind = 'mergesort', ascending = True)\n",
    "print(f'\\n {youngest.head(1)[[\"Age\"]].round(1)}')\n",
    "print('\\nChicago Bulls has the youngest roster, averaging 24.3 years old.\\n')"
   ]
  },
  {
   "cell_type": "markdown",
   "metadata": {},
   "source": [
    "# Who is the highest paid player during the seasion?"
   ]
  },
  {
   "cell_type": "code",
   "execution_count": 14,
   "metadata": {},
   "outputs": [
    {
     "name": "stdout",
     "output_type": "stream",
     "text": [
      "                         Name                   Team\n",
      "Salary                                              \n",
      "37457154.0      Stephen Curry  Golden State Warriors\n",
      "35654150.0  Russell Westbrook  Oklahoma City Thunder\n",
      "32088932.0      Blake Griffin        Detroit Pistons\n",
      "31214295.0     Gordon Hayward         Boston Celtics\n",
      "31200000.0         Kyle Lowry        Toronto Raptors\n",
      "\n",
      "Stephen Curry of the GS Warriors was the highest paid player, making $37,457,154.  Insane.\n",
      "\n"
     ]
    }
   ],
   "source": [
    "# print(league.groupby(['TP']).max().sort_values('TP', ascending = False).head(5)[['Name']])\n",
    "\n",
    "## Gives wrong output, as 'Salary' field is a string.\n",
    "# league.groupby(['Salary']).max().sort_values('Salary', ascending = False).head(20)[['Name', 'Team']]\n",
    "\n",
    "league['Salary'] = pd.to_numeric(league['Salary'], errors = 'coerce')\n",
    "league[\"Salary\"].fillna(0,inplace = True)\n",
    "print(league.groupby(['Salary']).max().sort_values('Salary', ascending = False).head(5)[['Name', 'Team']])\n",
    "\n",
    "print(f'\\nStephen Curry of the GS Warriors was the highest paid player, making $37,457,154.  Insane.\\n')\n"
   ]
  },
  {
   "cell_type": "markdown",
   "metadata": {},
   "source": [
    "# At the end of a game, who WOULDN'T you want on the Free Throw Line?"
   ]
  },
  {
   "cell_type": "code",
   "execution_count": 28,
   "metadata": {},
   "outputs": [
    {
     "name": "stdout",
     "output_type": "stream",
     "text": [
      "                   Name\n",
      "FT%                    \n",
      "0.000     C.J. Williams\n",
      "0.250    Melvin Frazier\n",
      "0.333      Ray Spalding\n",
      "0.400  Luc Mbah a Moute\n",
      "0.417      Kosta Koufos\n",
      "\n",
      "                Name   FT%  FTA\n",
      "168  Melvin Frazier  0.25  0.4 \n",
      "\n",
      "\n",
      "              Name    FT%  FTA\n",
      "451  Ray Spalding  0.333  0.9 \n",
      "\n",
      "\n",
      "                  Name  FT%  FTA\n",
      "324  Luc Mbah a Moute  0.4  1.3 \n",
      "\n",
      "\n",
      "I would not want Melvin Frazier, Ray Spalding, or Luc Mbah a Moute on the Free Throw line in the Clutch.\n",
      "\n"
     ]
    },
    {
     "name": "stderr",
     "output_type": "stream",
     "text": [
      "/var/folders/5h/2fq29yzd4lj0gf0pwmhm54680000gn/T/ipykernel_5918/3371425494.py:1: FutureWarning: Dropping invalid columns in DataFrameGroupBy.min is deprecated. In a future version, a TypeError will be raised. Before calling .min, select only columns which should be valid for the function.\n",
      "  print(league.groupby('FT%').min().sort_values('FT%', ascending = True).head(5)[['Name']])\n"
     ]
    }
   ],
   "source": [
    "print(league.groupby('FT%').min().sort_values('FT%', ascending = True).head(5)[['Name']])\n",
    "print('\\n', league.loc[league['Name'] == 'Melvin Frazier'][['Name','FT%', \"FTA\"]], '\\n')\n",
    "print('\\n', league.loc[league['Name'] == 'Ray Spalding'][['Name','FT%', \"FTA\"]], '\\n')\n",
    "print('\\n', league.loc[league['Name'] == 'Luc Mbah a Moute'][['Name','FT%', \"FTA\"]], '\\n')\n",
    "print('\\nI would not want Melvin Frazier, Ray Spalding, or Luc Mbah a Moute on the Free Throw line in the Clutch.\\n')"
   ]
  }
 ],
 "metadata": {
  "kernelspec": {
   "display_name": "Python 3 (ipykernel)",
   "language": "python",
   "name": "python3"
  },
  "language_info": {
   "codemirror_mode": {
    "name": "ipython",
    "version": 3
   },
   "file_extension": ".py",
   "mimetype": "text/x-python",
   "name": "python",
   "nbconvert_exporter": "python",
   "pygments_lexer": "ipython3",
   "version": "3.9.13"
  }
 },
 "nbformat": 4,
 "nbformat_minor": 2
}
